{
 "cells": [
  {
   "cell_type": "code",
   "execution_count": 342,
   "metadata": {},
   "outputs": [],
   "source": [
    "import requests\n",
    "import pandas as pd\n",
    "import time\n",
    "\n",
    "#TMDb api key\n",
    "api_key = \"\" #send me an email, happy to share the API key for testing"
   ]
  },
  {
   "cell_type": "code",
   "execution_count": 343,
   "metadata": {},
   "outputs": [],
   "source": [
    "#does 'discover' query on tmdb API, returns page N of the most popular American movies (20 results per page)\n",
    "def popular_page(page_num):\n",
    "    response = requests.get('https://api.themoviedb.org/3/discover/movie?api_key={}&popularity.desc\\\n",
    "                          &include_adult=false&include_video=false&language=en-US&page={}'.format(api_key, page_num))\n",
    "    print(\"{} for page {}\".format(response, page_num))\n",
    "    return response.json()['results']\n",
    "\n",
    "#test = popular_page(1)"
   ]
  },
  {
   "cell_type": "code",
   "execution_count": 344,
   "metadata": {},
   "outputs": [],
   "source": [
    "#extract results from the movie page results, append each movie's details to their respective arrays\n",
    "#'title','id','vote_average', 'vote_count', 'popularity', 'release_year'\n",
    "#later, through separate API calls: 'budget,'revenue','director name', 'gender'\n",
    "titles = []\n",
    "ids = []\n",
    "vote_average = []\n",
    "vote_count = []\n",
    "popularity = []\n",
    "release_year = []"
   ]
  },
  {
   "cell_type": "code",
   "execution_count": 345,
   "metadata": {},
   "outputs": [],
   "source": [
    "#function to go through movies in a results page and append the attributes to the arrays\n",
    "def discover_result_to_arrays(results_page):\n",
    "   for index, movie in enumerate(results_page):\n",
    "       titles.append(results_page[index]['title'])\n",
    "       ids.append(results_page[index]['id'])\n",
    "       vote_average.append(results_page[index]['vote_average'])\n",
    "       vote_count.append(results_page[index]['vote_count'])\n",
    "       popularity.append(results_page[index]['popularity'])\n",
    "       release_year.append(results_page[index]['release_date'][:4]) #gets the year from the yyyy-mm-dd date\n",
    "   return\n",
    "\n",
    "#discover_result_to_arrays(test)\n",
    "#release_year"
   ]
  },
  {
   "cell_type": "code",
   "execution_count": 346,
   "metadata": {},
   "outputs": [
    {
     "name": "stdout",
     "output_type": "stream",
     "text": [
      "<Response [200]> for page 51\n",
      "<Response [200]> for page 52\n",
      "<Response [200]> for page 53\n",
      "<Response [200]> for page 54\n",
      "<Response [200]> for page 55\n",
      "<Response [200]> for page 56\n",
      "<Response [200]> for page 57\n",
      "<Response [200]> for page 58\n",
      "<Response [200]> for page 59\n",
      "<Response [200]> for page 60\n",
      "<Response [200]> for page 61\n",
      "<Response [200]> for page 62\n",
      "<Response [200]> for page 63\n",
      "<Response [200]> for page 64\n",
      "<Response [200]> for page 65\n",
      "<Response [200]> for page 66\n",
      "<Response [200]> for page 67\n",
      "<Response [200]> for page 68\n",
      "<Response [200]> for page 69\n",
      "<Response [200]> for page 70\n",
      "<Response [200]> for page 71\n",
      "<Response [200]> for page 72\n",
      "<Response [200]> for page 73\n",
      "<Response [200]> for page 74\n",
      "<Response [200]> for page 75\n",
      "<Response [200]> for page 76\n",
      "<Response [200]> for page 77\n",
      "<Response [200]> for page 78\n",
      "<Response [200]> for page 79\n",
      "<Response [200]> for page 80\n",
      "<Response [200]> for page 81\n",
      "<Response [200]> for page 82\n",
      "<Response [200]> for page 83\n",
      "<Response [200]> for page 84\n",
      "<Response [200]> for page 85\n",
      "<Response [200]> for page 86\n",
      "<Response [200]> for page 87\n",
      "<Response [200]> for page 88\n",
      "<Response [200]> for page 89\n",
      "<Response [200]> for page 90\n",
      "<Response [200]> for page 91\n",
      "<Response [200]> for page 92\n",
      "<Response [200]> for page 93\n",
      "<Response [200]> for page 94\n",
      "<Response [200]> for page 95\n",
      "<Response [200]> for page 96\n",
      "<Response [200]> for page 97\n",
      "<Response [200]> for page 98\n",
      "<Response [200]> for page 99\n",
      "<Response [200]> for page 100\n"
     ]
    }
   ],
   "source": [
    "#loop through the discover queries for a given range of pages\n",
    "\n",
    "def discover_pulls(start_page, end_page):\n",
    "    for page in range(start_page, end_page + 1):\n",
    "        discover_result = popular_page(page) #does discover query on the next page\n",
    "        discover_result_to_arrays(discover_result) #appends the query results to the result arrays\n",
    "\n",
    "#stop at 50 pages (1000 movies), because Genderize API is limited to 1000 calls per day\n",
    "discover_pulls(1,25)\n",
    "time.sleep(10)\n",
    "discover_pulls(26,50)"
   ]
  },
  {
   "cell_type": "code",
   "execution_count": 348,
   "metadata": {},
   "outputs": [],
   "source": [
    "# pull details for a movie, including cast in the response\n",
    "# more details here: https://www.themoviedb.org/talk/56f6d2dc9251413007001c3c\n",
    "# &append_to_response=credits\n",
    "\n",
    "def movie_details_w_cast(movie_id):\n",
    "    response = requests.get('https://api.themoviedb.org/3/movie/{}?api_key={}&append_to_response=credits'\n",
    "                            .format(movie_id, api_key))\n",
    "    return response.json()\n",
    "\n",
    "# extract director's name from the JSON for the movie details\n",
    "# return as soon as the director is found, to save on iterations\n",
    "def get_director(movie):\n",
    "    for person in movie['credits']['crew']:\n",
    "        if person['job'] == 'Director':\n",
    "            director = person['name']\n",
    "            return director\n",
    "\n",
    "# extract revenue and budget from the movie details, append to their respective arrays\n",
    "# append result from get_director to its array\n",
    "def detail_results_to_arrays(movie):\n",
    "    revenues.append(movie['revenue'])\n",
    "    budgets.append(movie['budget'])\n",
    "    \n",
    "    director = get_director(movie)\n",
    "    directors.append(director)\n",
    "    \n",
    "    return"
   ]
  },
  {
   "cell_type": "code",
   "execution_count": 349,
   "metadata": {},
   "outputs": [],
   "source": [
    "revenues = []\n",
    "budgets = []\n",
    "directors = []"
   ]
  },
  {
   "cell_type": "code",
   "execution_count": 351,
   "metadata": {},
   "outputs": [],
   "source": [
    "# this cell takes a while - go grab a snack!\n",
    "\n",
    "# get detailed results for all of the movie IDs pulled in the discover search\n",
    "# add pause after each 40 to avoid API rate limiting (40 calls/10 secs)\n",
    "rate_limiter = 0\n",
    "\n",
    "for _id in ids:\n",
    "    movie = movie_details_w_cast(_id)\n",
    "    detail_results_to_arrays(movie)\n",
    "    \n",
    "    rate_limiter += 1\n",
    "    if rate_limiter == 40:\n",
    "        time.sleep(10)\n",
    "        rate_limiter = 0"
   ]
  },
  {
   "cell_type": "code",
   "execution_count": 352,
   "metadata": {},
   "outputs": [],
   "source": [
    "# get genders for every director\n",
    "# keep track of Genderize API calls - limited to 1000 per day\n",
    "genders = []\n",
    "genderize_api_call_count = 0\n",
    "\n",
    "def get_gender(director):\n",
    "    try:\n",
    "        director_first_name = director.split()[0] #get the first name\n",
    "        director_gender_api_call = requests.get('https://api.genderize.io/?name={}'.format(director_first_name))\n",
    "        json = director_gender_api_call.json()\n",
    "        \n",
    "        #don't make overconfident guesses about gender\n",
    "        if 'probability' in json and json['probability'] < .6:\n",
    "            return None\n",
    "        \n",
    "        #if genderize is confident about gender, return the gender\n",
    "        else:\n",
    "            gender = json['gender']\n",
    "            return gender\n",
    "        \n",
    "    except AttributeError:\n",
    "        return None\n",
    "\n",
    "for director in directors[0:1000]:\n",
    "    gender = get_gender(director)\n",
    "    genders.append(gender)\n",
    "    genderize_api_call_count += 1"
   ]
  },
  {
   "cell_type": "code",
   "execution_count": 353,
   "metadata": {},
   "outputs": [
    {
     "data": {
      "text/plain": [
       "1000"
      ]
     },
     "execution_count": 353,
     "metadata": {},
     "output_type": "execute_result"
    }
   ],
   "source": [
    "genderize_api_call_count"
   ]
  },
  {
   "cell_type": "code",
   "execution_count": 354,
   "metadata": {},
   "outputs": [],
   "source": [
    "#make a dataframe to store the data\n",
    "df_limiter = len(genders) #the limiting factor is the amount of data pulled from the genderize API\n",
    "\n",
    "df = pd.DataFrame({'Title':titles[:df_limiter],\n",
    "                   'ID':ids[:df_limiter],\n",
    "                   'Vote_Avg':vote_average[:df_limiter],\n",
    "                   'Vote_Count':vote_count[:df_limiter],\n",
    "                   'Popularity':popularity[:df_limiter],\n",
    "                   'release_year':release_year[:df_limiter],\n",
    "                   'Director':directors[:df_limiter],\n",
    "                   'Gender':genders,\n",
    "                   'Revenue':revenues[:df_limiter],\n",
    "                   'Budget':budgets[:df_limiter]\n",
    "                  })\n",
    "\n",
    "df['Gender'].value_counts()\n",
    "\n",
    "df.to_csv('Movie data up to row 2000.csv')"
   ]
  }
 ],
 "metadata": {
  "kernelspec": {
   "display_name": "Python 3",
   "language": "python",
   "name": "python3"
  },
  "language_info": {
   "codemirror_mode": {
    "name": "ipython",
    "version": 3
   },
   "file_extension": ".py",
   "mimetype": "text/x-python",
   "name": "python",
   "nbconvert_exporter": "python",
   "pygments_lexer": "ipython3",
   "version": "3.6.5"
  }
 },
 "nbformat": 4,
 "nbformat_minor": 2
}
